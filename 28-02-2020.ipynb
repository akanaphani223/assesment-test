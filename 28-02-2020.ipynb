{
 "cells": [
  {
   "cell_type": "markdown",
   "metadata": {},
   "source": [
    "### Create a function to find prime numbers in a given range\n",
    "### Create a function to find even or odd"
   ]
  },
  {
   "cell_type": "code",
   "execution_count": 27,
   "metadata": {},
   "outputs": [
    {
     "name": "stdout",
     "output_type": "stream",
     "text": [
      "enter number: 98\n",
      "given number is even: \n"
     ]
    }
   ],
   "source": [
    "n = int(input(\"enter number: \"))\n",
    "if n%2 == 0:\n",
    "    print(\"given number is even: \")\n",
    "else:\n",
    "    print(\"Given number is odd: \")"
   ]
  },
  {
   "cell_type": "code",
   "execution_count": 40,
   "metadata": {},
   "outputs": [
    {
     "name": "stdout",
     "output_type": "stream",
     "text": [
      "Given number is even\n"
     ]
    }
   ],
   "source": [
    "def evenORodd(n):\n",
    "    if n%2 == 0:\n",
    "        print(\"Given number is even\")\n",
    "    else:\n",
    "        print(\"Given number is odd\")\n",
    "    return\n",
    "evenORodd(98)"
   ]
  },
  {
   "cell_type": "code",
   "execution_count": null,
   "metadata": {},
   "outputs": [],
   "source": [
    "def check_range(n):\n",
    "    if n>1:\n",
    "        for i in range (i,n+1):\n",
    "    if (n%i) == 0:\n",
    "        \n",
    "        \n",
    "    "
   ]
  }
 ],
 "metadata": {
  "kernelspec": {
   "display_name": "Python 3",
   "language": "python",
   "name": "python3"
  },
  "language_info": {
   "codemirror_mode": {
    "name": "ipython",
    "version": 3
   },
   "file_extension": ".py",
   "mimetype": "text/x-python",
   "name": "python",
   "nbconvert_exporter": "python",
   "pygments_lexer": "ipython3",
   "version": "3.7.3"
  }
 },
 "nbformat": 4,
 "nbformat_minor": 2
}
